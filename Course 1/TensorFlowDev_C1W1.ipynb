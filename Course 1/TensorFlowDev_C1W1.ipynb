{
  "nbformat": 4,
  "nbformat_minor": 0,
  "metadata": {
    "colab": {
      "name": "TensorFlowDev_C1W1.ipynb",
      "provenance": [],
      "collapsed_sections": [],
      "authorship_tag": "ABX9TyM/tkCYaEZ3w3nn49EAtXKy",
      "include_colab_link": true
    },
    "kernelspec": {
      "name": "python3",
      "display_name": "Python 3"
    },
    "language_info": {
      "name": "python"
    }
  },
  "cells": [
    {
      "cell_type": "markdown",
      "metadata": {
        "id": "view-in-github",
        "colab_type": "text"
      },
      "source": [
        "<a href=\"https://colab.research.google.com/github/mosesandrian/TensorFlowDeveloperCourse/blob/main/Course%201/TensorFlowDev_C1W1.ipynb\" target=\"_parent\"><img src=\"https://colab.research.google.com/assets/colab-badge.svg\" alt=\"Open In Colab\"/></a>"
      ]
    },
    {
      "cell_type": "markdown",
      "metadata": {
        "id": "HA3ST_L-TEbK"
      },
      "source": [
        "# **The 'Hello World' of Neural Network**\n"
      ]
    },
    {
      "cell_type": "code",
      "metadata": {
        "id": "e2Gyg8H9U3qe"
      },
      "source": [
        "import tensorflow as tf\n",
        "import numpy as np\n",
        "from tensorflow import keras"
      ],
      "execution_count": 2,
      "outputs": []
    },
    {
      "cell_type": "code",
      "metadata": {
        "id": "m8Jbmc5UPw18"
      },
      "source": [
        "model = keras.Sequential([keras.layers.Dense(units=1, input_shape=[1])])\n",
        "model.compile(optimizer='sgd', loss='mean_squared_error') # sgd is stochastic gradient descent"
      ],
      "execution_count": 3,
      "outputs": []
    },
    {
      "cell_type": "code",
      "metadata": {
        "id": "2aGXopsoTPIX"
      },
      "source": [
        "xs = np.array([-1.0, 0.0, 1.0, 2.0, 3.0, 4.0], dtype=float)\n",
        "ys = np.array([-3.0, -1.0, 1.0, 3.0, 5.0, 7.0], dtype=float)"
      ],
      "execution_count": 4,
      "outputs": []
    },
    {
      "cell_type": "code",
      "metadata": {
        "id": "OqugVkK_T3MN"
      },
      "source": [
        "model.fit(xs, ys, epochs=500)"
      ],
      "execution_count": null,
      "outputs": []
    },
    {
      "cell_type": "code",
      "metadata": {
        "id": "et-DZFsvT8w-"
      },
      "source": [
        "print(model.predict([10.0]))"
      ],
      "execution_count": null,
      "outputs": []
    },
    {
      "cell_type": "markdown",
      "metadata": {
        "id": "UjUkXyehUc8z"
      },
      "source": [
        "\n",
        "\n",
        "> *it won't fit to 19, since it deals with probability, and your input data is just so minimal.*\n",
        "\n",
        "\n"
      ]
    },
    {
      "cell_type": "markdown",
      "metadata": {
        "id": "vyOOGzcEYrVR"
      },
      "source": [
        "# **Exercise 1: House Prices**"
      ]
    },
    {
      "cell_type": "markdown",
      "metadata": {
        "id": "bpjftdt5a4wh"
      },
      "source": [
        "In this exercise you'll try to build a neural network that predicts the price of a house according to a simple formula.\n",
        "\n",
        "So, imagine if house pricing was as easy as a house costs 50k + 50k per bedroom, so that a 1 bedroom house costs 100k, a 2 bedroom house costs 150k etc.\n",
        "\n",
        "How would you create a neural network that learns this relationship so that it would predict a 7 bedroom house as costing close to 400k etc.\n",
        "\n",
        "Hint: Your network might work better if you scale the house price down. You don't have to give the answer 400...it might be better to create something that predicts the number 4, and then your answer is in the 'hundreds of thousands' etc."
      ]
    },
    {
      "cell_type": "code",
      "metadata": {
        "id": "Kcz6NQvuYp4Z"
      },
      "source": [
        "import tensorflow as tf\n",
        "import numpy as np\n",
        "from tensorflow import keras"
      ],
      "execution_count": null,
      "outputs": []
    },
    {
      "cell_type": "code",
      "metadata": {
        "id": "vWvfjvaIY-Ym"
      },
      "source": [
        "def house_model(y_new):\n",
        "    xs = np.array([1.0,2.0,3.0,4.0,5.0,6.0,7.0,8.0,9.0,10.0],dtype=float)\n",
        "    ys = np.array([1.0,1.5,2.0,2.5,3.0,3.5,4.0,4.5,5.0,5.5],dtype=float)\n",
        "    model = keras.Sequential([keras.layers.Dense(units=1, input_shape=[1])]) \n",
        "    model.compile(optimizer='sgd', loss='mean_squared_error')\n",
        "    model.fit(xs,ys,epochs=500)\n",
        "    return model.predict(y_new)[0]"
      ],
      "execution_count": null,
      "outputs": []
    },
    {
      "cell_type": "code",
      "metadata": {
        "id": "LZeDYWASZBFw"
      },
      "source": [
        "prediction = house_model([7.0])\n",
        "print(prediction*100000)"
      ],
      "execution_count": null,
      "outputs": []
    }
  ]
}