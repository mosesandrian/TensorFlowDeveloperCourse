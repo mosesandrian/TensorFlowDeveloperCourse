{
  "nbformat": 4,
  "nbformat_minor": 0,
  "metadata": {
    "colab": {
      "name": "TensorFlowDev_C1W3.ipynb",
      "provenance": [],
      "collapsed_sections": [],
      "authorship_tag": "ABX9TyPpCVUW3VtLSIZtnEWsZAXO",
      "include_colab_link": true
    },
    "kernelspec": {
      "name": "python3",
      "display_name": "Python 3"
    },
    "language_info": {
      "name": "python"
    }
  },
  "cells": [
    {
      "cell_type": "markdown",
      "metadata": {
        "id": "view-in-github",
        "colab_type": "text"
      },
      "source": [
        "<a href=\"https://colab.research.google.com/github/mosesandrian/TensorFlowDeveloperCourse/blob/main/Course%201/TensorFlowDev_C1W3.ipynb\" target=\"_parent\"><img src=\"https://colab.research.google.com/assets/colab-badge.svg\" alt=\"Open In Colab\"/></a>"
      ]
    },
    {
      "cell_type": "markdown",
      "metadata": {
        "id": "LGXTJ-hjqQNg"
      },
      "source": [
        "# **Convolutions and Pooling**"
      ]
    },
    {
      "cell_type": "code",
      "metadata": {
        "colab": {
          "base_uri": "https://localhost:8080/"
        },
        "id": "9HbDmpIkf6ZN",
        "outputId": "e1e9d68e-39f6-47e1-b41c-44393907e6e4"
      },
      "source": [
        "import tensorflow as tf\n",
        "print(tf.__version__)\n",
        "mnist = tf.keras.datasets.fashion_mnist\n",
        "(training_images, training_labels), (test_images, test_labels) = mnist.load_data()\n",
        "training_images = training_images.reshape(60000, 28, 28, 1)\n",
        "training_images = training_images / 255.0\n",
        "test_images = test_images.reshape(10000, 28, 28, 1)\n",
        "test_images = test_images / 255.0"
      ],
      "execution_count": null,
      "outputs": [
        {
          "output_type": "stream",
          "text": [
            "2.4.1\n",
            "Downloading data from https://storage.googleapis.com/tensorflow/tf-keras-datasets/train-labels-idx1-ubyte.gz\n",
            "32768/29515 [=================================] - 0s 0us/step\n",
            "Downloading data from https://storage.googleapis.com/tensorflow/tf-keras-datasets/train-images-idx3-ubyte.gz\n",
            "26427392/26421880 [==============================] - 0s 0us/step\n",
            "Downloading data from https://storage.googleapis.com/tensorflow/tf-keras-datasets/t10k-labels-idx1-ubyte.gz\n",
            "8192/5148 [===============================================] - 0s 0us/step\n",
            "Downloading data from https://storage.googleapis.com/tensorflow/tf-keras-datasets/t10k-images-idx3-ubyte.gz\n",
            "4423680/4422102 [==============================] - 0s 0us/step\n"
          ],
          "name": "stdout"
        }
      ]
    },
    {
      "cell_type": "markdown",
      "metadata": {
        "id": "OF2y7i0KhS1Z"
      },
      "source": [
        "`training_images = training_images.reshape(60000, 28, 28, 1)`\n",
        "\n",
        "We needed a tensor of four dimensions to start the convolutions. So instead of 60000 different items, its now 1 item with a dimension of 60000x28x28x1 for the training_images. Also for the test_images!"
      ]
    },
    {
      "cell_type": "code",
      "metadata": {
        "id": "uMyBjWvCpLMB"
      },
      "source": [
        "class myCallback(tf.keras.callbacks.Callback):\n",
        "  def on_epoch_end(self, epoch, logs={}):  # is set up on epoch_end, prevent fluctuations\n",
        "    if(logs.get('accuracy')>0.97):\n",
        "      print(\"\\nReached 97% accuracy so cancelling training!\")\n",
        "      self.model.stop_training = True\n",
        "\n",
        "callbacks = myCallback()"
      ],
      "execution_count": null,
      "outputs": []
    },
    {
      "cell_type": "code",
      "metadata": {
        "id": "3LebCcsWp-2i"
      },
      "source": [
        "model = tf.keras.models.Sequential([\n",
        "    tf.keras.layers.Conv2D(32, (3,3), activation='relu',\n",
        "                           input_shape=(28,28,1)),\n",
        "    tf.keras.layers.MaxPooling2D(2,2),\n",
        "    # tf.keras.layers.Conv2D(64, (3,3), activation='relu'),\n",
        "    # tf.keras.layers.MaxPooling2D(2,2),\n",
        "    tf.keras.layers.Flatten(),\n",
        "    tf.keras.layers.Dense(128, activation='relu'),\n",
        "    tf.keras.layers.Dense(10, activation='softmax')\n",
        "])"
      ],
      "execution_count": null,
      "outputs": []
    },
    {
      "cell_type": "markdown",
      "metadata": {
        "id": "dMsjkE1iq1f-"
      },
      "source": [
        "`tf.keras.layers.Conv2D(64, (3,3), activation='relu', input_shape=(28,28,1))`\n",
        "\n",
        "**Conv2D** - generate **64** **3x3**-filters, that uses activation '**relu**' to eliminate negative values. **Input shape** is 28x28, with 1 as the color depth (grayscale only)\n",
        "\n",
        "\n",
        "> 64 filters aren't picked at random. https://bit.ly/2UGa7uH\n",
        "\n",
        "> try with something in the order of 32!\n",
        "\n",
        "\n"
      ]
    },
    {
      "cell_type": "markdown",
      "metadata": {
        "id": "dM10dv2QsDRx"
      },
      "source": [
        "\n",
        "\n",
        "```\n",
        "  tf.keras.layers.MaxPooling2D(2,2)\n",
        "  tf.keras.layers.Conv2D(64, (3,3), activation='relu'),\n",
        "  tf.keras.layers.MaxPooling2D(2,2),\n",
        "```\n",
        "\n",
        "**MaxPooling2D** - taking maximum values of 2x2 pixels.\n",
        "- uses another convolutional layer with MaxPooling2D, maximizing how the network might learn, pool to reduce the size\n",
        "\n",
        "`model.summary()` -- looking through the journey of the layers. Keep an eye of the output shape column.\n",
        "- negate 1 pixel margin, needs neighbor for Convolution Filter\n",
        "- 5x5x64 - final value to be inputted to Flatten library. This provides better feature extraction and increase performance.\n"
      ]
    },
    {
      "cell_type": "code",
      "metadata": {
        "id": "_8WUnoN2q1Ju",
        "colab": {
          "base_uri": "https://localhost:8080/"
        },
        "outputId": "1c353844-6223-49f0-cdd4-d839b82f73e0"
      },
      "source": [
        "model.compile(optimizer='adam',\n",
        "              loss='sparse_categorical_crossentropy',\n",
        "              metrics=['accuracy'])\n",
        "model.summary()\n",
        "model.fit(training_images, training_labels, epochs=5, callbacks=[callbacks])\n",
        "test_loss = model.evaluate(test_images, test_labels) # this is for evaluating the data with test_images"
      ],
      "execution_count": null,
      "outputs": [
        {
          "output_type": "stream",
          "text": [
            "Model: \"sequential_2\"\n",
            "_________________________________________________________________\n",
            "Layer (type)                 Output Shape              Param #   \n",
            "=================================================================\n",
            "conv2d_3 (Conv2D)            (None, 26, 26, 64)        640       \n",
            "_________________________________________________________________\n",
            "max_pooling2d_3 (MaxPooling2 (None, 13, 13, 64)        0         \n",
            "_________________________________________________________________\n",
            "flatten_2 (Flatten)          (None, 10816)             0         \n",
            "_________________________________________________________________\n",
            "dense_4 (Dense)              (None, 128)               1384576   \n",
            "_________________________________________________________________\n",
            "dense_5 (Dense)              (None, 10)                1290      \n",
            "=================================================================\n",
            "Total params: 1,386,506\n",
            "Trainable params: 1,386,506\n",
            "Non-trainable params: 0\n",
            "_________________________________________________________________\n",
            "Epoch 1/5\n",
            "1875/1875 [==============================] - 64s 34ms/step - loss: 0.2493 - accuracy: 0.9092\n",
            "Epoch 2/5\n",
            "1875/1875 [==============================] - 61s 33ms/step - loss: 0.2020 - accuracy: 0.9253\n",
            "Epoch 3/5\n",
            "1875/1875 [==============================] - 60s 32ms/step - loss: 0.1559 - accuracy: 0.9435\n",
            "Epoch 4/5\n",
            "1875/1875 [==============================] - 61s 33ms/step - loss: 0.1329 - accuracy: 0.9510\n",
            "Epoch 5/5\n",
            "1875/1875 [==============================] - 62s 33ms/step - loss: 0.1072 - accuracy: 0.9606\n",
            "313/313 [==============================] - 3s 10ms/step - loss: 0.2584 - accuracy: 0.9156\n"
          ],
          "name": "stdout"
        }
      ]
    },
    {
      "cell_type": "markdown",
      "metadata": {
        "id": "hbLOyxRsiYJT"
      },
      "source": [
        "Be very careful with overfitting! Using more epochs means you might get awesome results in your training data. However, it might be too fit to the training data and not for your test data."
      ]
    },
    {
      "cell_type": "markdown",
      "metadata": {
        "id": "PjDeLvE0mFHm"
      },
      "source": [
        "Convolution Exercises:\n",
        "\n",
        "1. Try editing convolution number of filters: 16, 32, or 64. *(Impact on time/accuracy?)*\n",
        "\n",
        "> 16 filters definitely provide faster computation time, rather than 32 or 64 filters.\n",
        "\n",
        "2. Try removing the second convolution process *(Impact on time/accuracy?)*\n",
        "\n",
        "> It's faster! and with 10 epochs it reaches 99.85% accuracy. With test accuracy of 98.78%\n",
        "\n",
        "3. Try adding more convolution process *(Impact on time/accuracy?)*\n",
        "\n",
        "> With 3 convolution and pooling steps, has similar training time, however, their accuracy steps from 76.1% on the 1st epoch to 94.9% on the 2nd.\n",
        "\n",
        "> Don't use more convolutions than necessary. It didn't add too much of an effect to the end. (98.4% on training and 98.2% on test)\n",
        "\n",
        "4. Try removing all convolutions but the first. *(Impact on time/accuracy?)*\n",
        "\n",
        ">\n",
        "\n",
        "5. Try callback!\n",
        "\n",
        "> Done."
      ]
    },
    {
      "cell_type": "markdown",
      "metadata": {
        "id": "xf4o0tyyjn3v"
      },
      "source": [
        "# **Visualization of Convolution and Pooling**"
      ]
    },
    {
      "cell_type": "code",
      "metadata": {
        "id": "NI8a7jchiWL6"
      },
      "source": [
        "print(test_labels[:100])"
      ],
      "execution_count": null,
      "outputs": []
    },
    {
      "cell_type": "code",
      "metadata": {
        "colab": {
          "base_uri": "https://localhost:8080/",
          "height": 267
        },
        "id": "Yh3lkdQpjzju",
        "outputId": "81aee0c2-57e6-4a94-8591-8d39ca26f334"
      },
      "source": [
        "import matplotlib.pyplot as plt\n",
        "f, axarr = plt.subplots(3,4)\n",
        "FIRST_IMAGE=0\n",
        "SECOND_IMAGE=7\n",
        "THIRD_IMAGE=26\n",
        "CONVOLUTION_NUMBER=1\n",
        "from tensorflow.keras import models\n",
        "layer_outputs = [layer.output for layer in model.layers]\n",
        "activation_model = tf.keras.models.Model(inputs=model.input,\n",
        "                                         outputs=layer_outputs)\n",
        "for x in range(0,4):\n",
        "  f1 = activation_model.predict(test_images[FIRST_IMAGE].reshape(1,28,28,1))[x]\n",
        "  axarr[0,x].imshow(f1[0,:,:,CONVOLUTION_NUMBER], cmap = 'inferno')\n",
        "  axarr[0,x].grid(False)\n",
        "  f2 = activation_model.predict(test_images[SECOND_IMAGE].reshape(1,28,28,1))[x]\n",
        "  axarr[1,x].imshow(f2[0,:,:,CONVOLUTION_NUMBER], cmap = 'inferno')\n",
        "  axarr[1,x].grid(False)\n",
        "  f3 = activation_model.predict(test_images[THIRD_IMAGE].reshape(1,28,28,1))[x]\n",
        "  axarr[2,x].imshow(f3[0,:,:,CONVOLUTION_NUMBER], cmap = 'inferno')\n",
        "  axarr[2,x].grid(False)"
      ],
      "execution_count": null,
      "outputs": [
        {
          "output_type": "display_data",
          "data": {
            "image/png": "[encoded data removed]",
            "text/plain": [
              "<Figure size 432x288 with 12 Axes>"
            ]
          },
          "metadata": {
            "tags": [],
            "needs_background": "light"
          }
        }
      ]
    },
    {
      "cell_type": "markdown",
      "metadata": {
        "id": "0kXSFJAC0sCk"
      },
      "source": [
        "# **Exercise 3 (Improve MNIST with Convolutions)**"
      ]
    },
    {
      "cell_type": "code",
      "metadata": {
        "id": "qTcXg4860raI"
      },
      "source": [
        "import tensorflow as tf\n",
        "from os import path, getcwd, chdir\n",
        "\n",
        "path = f\"{getcwd()}/../tmp2/mnist.npz\"\n",
        "\n",
        "config = tf.ConfigProto()\n",
        "config.gpu_options.allow_growth = True\n",
        "sess = tf.Session(config=config)\n",
        "\n",
        "def train_mnist_conv():\n",
        "  class myCallback(tf.keras.callbacks.Callback):\n",
        "        def on_epoch_end(self,epoch,logs={}):\n",
        "            if(logs.get('acc')>0.998):\n",
        "                print(\"\\nReached 99.8% accuracy so cancelling training!\")\n",
        "                self.model.stop_training = True\n",
        "                \n",
        "  callbacks=myCallback()\n",
        "\n",
        "  mnist = tf.keras.datasets.mnist\n",
        "  (training_images, training_labels), (test_images, test_labels) = mnist.load_data(path=path)\n",
        "  training_images = training_images.reshape(60000, 28, 28, 1)\n",
        "  training_images = training_images / 255.0\n",
        "  test_images = test_images.reshape(10000, 28, 28, 1)\n",
        "  test_images = test_images / 255.0\n",
        "\n",
        "  model = tf.keras.models.Sequential([\n",
        "            # YOUR CODE STARTS HERE\n",
        "            tf.keras.layers.Conv2D(64,(3,3),activation='relu',\n",
        "                                  input_shape=(28,28,1)),\n",
        "            tf.keras.layers.MaxPooling2D(2,2),\n",
        "            tf.keras.layers.Flatten(),\n",
        "            tf.keras.layers.Dense(128, activation='relu'),\n",
        "            tf.keras.layers.Dense(10, activation='softmax')\n",
        "            # YOUR CODE ENDS HERE\n",
        "  ])\n",
        "\n",
        "  model.compile(optimizer='adam',\n",
        "                loss='sparse_categorical_crossentropy',\n",
        "                metrics=['accuracy'])\n",
        "  \n",
        "  history = model.fit(\n",
        "        # YOUR CODE STARTS HERE\n",
        "        training_images, training_labels, epochs = 20, callbacks = [callbacks]\n",
        "        # YOUR CODE ENDS HERE\n",
        "  )\n",
        "  return history.epoch, history.history['acc'][-1]"
      ],
      "execution_count": null,
      "outputs": []
    },
    {
      "cell_type": "code",
      "metadata": {
        "id": "qYB4NEhj1V6e"
      },
      "source": [
        "_, _ = train_mnist_conv()"
      ],
      "execution_count": null,
      "outputs": []
    }
  ]
}